{
  "nbformat": 4,
  "nbformat_minor": 0,
  "metadata": {
    "colab": {
      "name": "Untitled12.ipynb",
      "provenance": [],
      "authorship_tag": "ABX9TyOHCDJA6Xi8h62DI5OO5HC1",
      "include_colab_link": true
    },
    "kernelspec": {
      "name": "python3",
      "display_name": "Python 3"
    }
  },
  "cells": [
    {
      "cell_type": "markdown",
      "metadata": {
        "id": "view-in-github",
        "colab_type": "text"
      },
      "source": [
        "<a href=\"https://colab.research.google.com/github/A-lphonse/Python/blob/master/Sharing%20Pizza%20code.ipynb\" target=\"_parent\"><img src=\"https://colab.research.google.com/assets/colab-badge.svg\" alt=\"Open In Colab\"/></a>"
      ]
    },
    {
      "cell_type": "code",
      "metadata": {
        "id": "twIBo3RVeu6-",
        "colab_type": "code",
        "colab": {
          "base_uri": "https://localhost:8080/",
          "height": 102
        },
        "outputId": "e5b58a1e-40e2-43aa-bb8f-fe3c8fb33e95"
      },
      "source": [
        "import math \n",
        "\n",
        "def main():\n",
        "  people = int(input(\"how many people are eating\"))\n",
        "  slices_per_person = float(input(\"how many slices per person?\"))\n",
        "  slices = slices_per_person * people\n",
        "  slices_per_pie = int(input(\"how many slices per pie?\"))\n",
        "  pizzas = math.ceil(slices/slices_per_pie)\n",
        "  print(\"you need\", pizzas, \"pizzas to feed\", people,\"people.\") \n",
        "  total_slices = slices_per_pie*pizzas \n",
        "  slices_left = total_slices -slices\n",
        "  print(\"there will be\",slices_left, \"leftover slices.\")\n",
        "main()\n",
        "  "
      ],
      "execution_count": 6,
      "outputs": [
        {
          "output_type": "stream",
          "text": [
            "how many people are eating25\n",
            "how many slices per person?2\n",
            "how many slices per pie?8\n",
            "you need 7 pizzas to feed 25 people.\n",
            "there will be 6.0 leftover slices.\n"
          ],
          "name": "stdout"
        }
      ]
    },
    {
      "cell_type": "code",
      "metadata": {
        "id": "iGumA9SUl1Fv",
        "colab_type": "code",
        "colab": {
          "base_uri": "https://localhost:8080/",
          "height": 153
        },
        "outputId": "5c78e999-b829-44cc-a81b-47bd41009a9f"
      },
      "source": [
        "import random\n",
        "\n",
        "def roll_die(sides =6):\n",
        "    num_rolled = random.randint(1,sides)\n",
        "    return num_rolled\n",
        "def main():\n",
        "  sides = 6\n",
        "  total = 0\n",
        "\n",
        "  num_rolls = 1\n",
        "  roll = roll_die(sides)\n",
        "  print(\"you rolled a\", roll)\n",
        "  total += roll\n",
        "  print(\"Total after first roll:\", total) \n",
        "  num_rolls += 1\n",
        "  roll = roll_die(sides)\n",
        "  print(\"you roled a\", roll)\n",
        "  total+=roll\n",
        "  print(\"Total after\", num_rolls, \"rolls:\", total)\n",
        "  num_rolls += 1\n",
        "  roll = roll_die(sides)\n",
        "  print(\"you rolled a\", roll)\n",
        "  total += roll\n",
        "  print (\"Total after\", num_rolls, \"rolls:\", total)\n",
        "  average= round(total/num_rolls,2)\n",
        "  print(\"your average roll was average\")\n",
        "  print(\"Thanks for plalying.\")\n",
        "main()    "
      ],
      "execution_count": 16,
      "outputs": [
        {
          "output_type": "stream",
          "text": [
            "you rolled a 3\n",
            "Total after first roll: 3\n",
            "you roled a 3\n",
            "Total after 2 rolls: 6\n",
            "you rolled a 5\n",
            "Total after 3 rolls: 11\n",
            "your average roll was average\n",
            "Thanks for plalying.\n"
          ],
          "name": "stdout"
        }
      ]
    }
  ]
}